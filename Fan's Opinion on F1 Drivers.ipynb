{
 "cells": [
  {
   "cell_type": "code",
   "execution_count": 9,
   "metadata": {},
   "outputs": [],
   "source": [
    "from textblob import TextBlob\n",
    "import sys\n",
    "import numpy as np\n",
    "import snscrape.modules.twitter as sntwitter\n",
    "from matplotlib import pyplot as plt"
   ]
  },
  {
   "cell_type": "code",
   "execution_count": 3,
   "metadata": {},
   "outputs": [],
   "source": [
    "\n",
    "#Ham[0] 2007-09, 2010-2013, 2014-2016,2017-2020, 2021\n",
    "#Seb[1] 2008-09, 2010-2013,2014-2018,2019-2020,2021\n",
    "#Verstappen[2] 2015-2016,2016-2018,2019-2020, 2021 #10000 tweets per year\n"
   ]
  },
  {
   "cell_type": "code",
   "execution_count": 7,
   "metadata": {},
   "outputs": [
    {
     "name": "stdout",
     "output_type": "stream",
     "text": [
      "Lewis Hamilton since:2007-01-01 until:2007-12-31 lang:ennumber of tweets201\n",
      "Sebastian Vettel since:2007-01-01 until:2007-12-31 lang:ennumber of tweets7\n",
      "Max Verstappen since:2007-01-01 until:2007-12-31 lang:ennumber of tweets0\n",
      "Lewis Hamilton since:2008-01-01 until:2008-12-31 lang:ennumber of tweets201\n",
      "Sebastian Vettel since:2008-01-01 until:2008-12-31 lang:ennumber of tweets201\n",
      "Max Verstappen since:2008-01-01 until:2008-12-31 lang:ennumber of tweets0\n",
      "Lewis Hamilton since:2009-01-01 until:2009-12-31 lang:ennumber of tweets201\n",
      "Sebastian Vettel since:2009-01-01 until:2009-12-31 lang:ennumber of tweets201\n",
      "Max Verstappen since:2009-01-01 until:2009-12-31 lang:ennumber of tweets6\n",
      "Lewis Hamilton since:2010-01-01 until:2010-12-31 lang:ennumber of tweets201\n",
      "Sebastian Vettel since:2010-01-01 until:2010-12-31 lang:ennumber of tweets201\n",
      "Max Verstappen since:2010-01-01 until:2010-12-31 lang:ennumber of tweets31\n",
      "Lewis Hamilton since:2011-01-01 until:2011-12-31 lang:ennumber of tweets201\n",
      "Sebastian Vettel since:2011-01-01 until:2011-12-31 lang:ennumber of tweets201\n",
      "Max Verstappen since:2011-01-01 until:2011-12-31 lang:ennumber of tweets50\n",
      "Lewis Hamilton since:2012-01-01 until:2012-12-31 lang:ennumber of tweets201\n",
      "Sebastian Vettel since:2012-01-01 until:2012-12-31 lang:ennumber of tweets201\n",
      "Max Verstappen since:2012-01-01 until:2012-12-31 lang:ennumber of tweets201\n",
      "Lewis Hamilton since:2013-01-01 until:2013-12-31 lang:ennumber of tweets201\n",
      "Sebastian Vettel since:2013-01-01 until:2013-12-31 lang:ennumber of tweets201\n",
      "Max Verstappen since:2013-01-01 until:2013-12-31 lang:ennumber of tweets201\n",
      "Lewis Hamilton since:2014-01-01 until:2014-12-31 lang:ennumber of tweets201\n",
      "Sebastian Vettel since:2014-01-01 until:2014-12-31 lang:ennumber of tweets201\n",
      "Max Verstappen since:2014-01-01 until:2014-12-31 lang:ennumber of tweets201\n",
      "Lewis Hamilton since:2015-01-01 until:2015-12-31 lang:ennumber of tweets201\n",
      "Sebastian Vettel since:2015-01-01 until:2015-12-31 lang:ennumber of tweets201\n",
      "Max Verstappen since:2015-01-01 until:2015-12-31 lang:ennumber of tweets201\n",
      "Lewis Hamilton since:2016-01-01 until:2016-12-31 lang:ennumber of tweets201\n",
      "Sebastian Vettel since:2016-01-01 until:2016-12-31 lang:ennumber of tweets201\n",
      "Max Verstappen since:2016-01-01 until:2016-12-31 lang:ennumber of tweets201\n",
      "Lewis Hamilton since:2017-01-01 until:2017-12-31 lang:ennumber of tweets201\n",
      "Sebastian Vettel since:2017-01-01 until:2017-12-31 lang:ennumber of tweets201\n",
      "Max Verstappen since:2017-01-01 until:2017-12-31 lang:ennumber of tweets201\n",
      "Lewis Hamilton since:2018-01-01 until:2018-12-31 lang:ennumber of tweets201\n",
      "Sebastian Vettel since:2018-01-01 until:2018-12-31 lang:ennumber of tweets201\n",
      "Max Verstappen since:2018-01-01 until:2018-12-31 lang:ennumber of tweets201\n",
      "Lewis Hamilton since:2019-01-01 until:2019-12-31 lang:ennumber of tweets201\n",
      "Sebastian Vettel since:2019-01-01 until:2019-12-31 lang:ennumber of tweets201\n",
      "Max Verstappen since:2019-01-01 until:2019-12-31 lang:ennumber of tweets201\n",
      "Lewis Hamilton since:2020-01-01 until:2020-12-31 lang:ennumber of tweets201\n",
      "Sebastian Vettel since:2020-01-01 until:2020-12-31 lang:ennumber of tweets201\n",
      "Max Verstappen since:2020-01-01 until:2020-12-31 lang:ennumber of tweets201\n",
      "Lewis Hamilton since:2021-01-01 until:2021-12-31 lang:ennumber of tweets201\n",
      "Sebastian Vettel since:2021-01-01 until:2021-12-31 lang:ennumber of tweets201\n",
      "Max Verstappen since:2021-01-01 until:2021-12-31 lang:ennumber of tweets201\n"
     ]
    }
   ],
   "source": [
    "#version 2 with snscrape to scrape old tweets cause twitter api doesnt help\n",
    "tweets = []\n",
    "drivers = np.array(['Lewis Hamilton','Sebastian Vettel','Max Verstappen'])\n",
    "years = 15 #zero indexed\n",
    "for y in range(years):\n",
    "    temptweetsfortheyear = []\n",
    "    for d in drivers:\n",
    "        temptweetsforcurrdriver = []\n",
    "        curryear = 2007+y\n",
    "        search_str = \"%s since:%d-01-01 until:%d-12-31 lang:en\" % (d,curryear,curryear)\n",
    "        for i, tweet in enumerate(sntwitter.TwitterSearchScraper(search_str).get_items()):\n",
    "            if i > 10000:\n",
    "                break\n",
    "            temptweetsforcurrdriver.append([d,tweet.date,tweet.id,tweet.content])\n",
    "        temptweetsfortheyear.append(temptweetsforcurrdriver)\n",
    "        print(search_str + \"number of tweets\" + str(len(temptweetsforcurrdriver)))\n",
    "    tweets.append(temptweetsfortheyear)\n",
    "tweets = np.array(tweets, dtype =object)"
   ]
  },
  {
   "cell_type": "code",
   "execution_count": null,
   "metadata": {},
   "outputs": [],
   "source": [
    "#tweets[year][driver][tweetno][attribute]\n",
    "#attributes 0 = driver, 1= tweet date,2 = tweet id, 3 = tweet text\n",
    "print(tweets[2][1][200][3])"
   ]
  },
  {
   "cell_type": "code",
   "execution_count": 8,
   "metadata": {},
   "outputs": [
    {
     "name": "stdout",
     "output_type": "stream",
     "text": [
      "[[31.190809132996637, 0.16136363636363635, 0], [22.23946067821068, 41.603996155753954, 0], [29.055118145743155, 25.538903544372296, 0.12878787878787873], [22.787229707322474, 29.044895382395392, 2.9738636363636366], [74.4042425369769, 41.17544191919191, 1.7638762626262627], [38.297361430525484, 44.35361616161613, 31.761337447274947], [35.45087436868686, 4.895575171356423, 37.93974837662339], [32.35750278078402, -5.958128908128906, 10.260616883116887], [50.62851445429569, 38.264231601731645, 37.06895310527146], [27.3403438401876, 28.558288412975894, 29.28262085137087], [23.48519072420636, 22.340853174603165, 31.160549918831162], [40.208882477114905, 30.76795867905243, 28.675882635882637], [29.859819449730157, 33.39805897516836, 21.694608059764306], [26.451745806277074, 14.596485551485559, 14.573651915214421], [25.482180848665234, 34.64612760792448, 33.14562905844157]]\n"
     ]
    }
   ],
   "source": [
    "#Lewis is index 0, Seb is index 1, Max is index 2\n",
    "positives = [] \n",
    "negatives = []\n",
    "neutral = []\n",
    "polarities = []\n",
    "\n",
    "#polarities[year][driver]\n",
    "#neutrals[year][driver]\n",
    "#positives[year][driver]\n",
    "#negatives[year][driver]\n",
    "\n",
    "for y in range(years):\n",
    "    temppositiveyear = []\n",
    "    tempnegativeyear = []\n",
    "    tempneutralyear = []\n",
    "    temppolarityyear = []\n",
    "    for d in range(len(drivers)):\n",
    "        temppositive = 0\n",
    "        tempnegative = 0\n",
    "        tempneutral = 0\n",
    "        temppolarity = 0        \n",
    "        for i in tweets[y][d]:\n",
    "            cleaned  =  i[3].replace('RT','')\n",
    "            if (cleaned.startswith(' @')):\n",
    "                pos = cleaned.index('')\n",
    "                cleaned = cleaned[pos+2:]\n",
    "            if (cleaned.startswith('@')):\n",
    "                pos = cleaned.index('')\n",
    "                cleaned = cleaned[pos+2:]        \n",
    "            currBlobToAnalyse = TextBlob(cleaned)\n",
    "            currpolarity = currBlobToAnalyse.polarity\n",
    "            if (currpolarity > 0.00):\n",
    "                temppositive += 1\n",
    "            elif (currpolarity < 0.00):\n",
    "                tempnegative += 1\n",
    "            elif (currpolarity == 0.00):\n",
    "                tempneutral += 1\n",
    "            temppolarity += currpolarity\n",
    "        temppositiveyear.append(temppositive)\n",
    "        tempnegativeyear.append(tempnegative)\n",
    "        tempneutralyear.append(tempneutral)\n",
    "        temppolarityyear.append(temppolarity)\n",
    "    positives.append(temppositiveyear)\n",
    "    negatives.append(tempnegativeyear)\n",
    "    neutral.append(tempneutralyear)\n",
    "    polarities.append(temppolarityyear)\n",
    "print(polarities)\n",
    "positives = np.array(positives)\n",
    "negatives = np.array(negatives)\n",
    "neutral = np.array(neutral)\n",
    "polarities = np.array(polarities)"
   ]
  },
  {
   "cell_type": "code",
   "execution_count": 18,
   "metadata": {},
   "outputs": [
    {
     "data": {
      "text/plain": [
       "array([31.19080913, 22.23946068, 29.05511815, 22.78722971, 74.40424254,\n",
       "       38.29736143, 35.45087437, 32.35750278, 50.62851445, 27.34034384,\n",
       "       23.48519072, 40.20888248, 29.85981945, 26.45174581, 25.48218085])"
      ]
     },
     "execution_count": 18,
     "metadata": {},
     "output_type": "execute_result"
    }
   ],
   "source": [
    "yearlabels = np.array(['2007','2008','2009','2010','2011','2012','2013','2014','2015','2016','2017','2018','2019','2020','2021'])\n",
    "polarities.T[0]"
   ]
  },
  {
   "cell_type": "code",
   "execution_count": 42,
   "metadata": {},
   "outputs": [],
   "source": [
    "def plotlinegraph(x,y,title,xlabel,ylabel,savefilenamewithextension):\n",
    "    plt.title(title)\n",
    "    plt.xlabel(xlabel)\n",
    "    plt.ylabel(ylabel)\n",
    "    plt.plot(x,y)\n",
    "    plt.savefig(savefilenamewithextension)\n",
    "\n",
    "def plotbargraph(x,y,title,xlabel,ylabel,savefilenamewithextension):\n",
    "    plt.bar(x,y,align = 'center')\n",
    "    plt.title(title)\n",
    "    plt.xlabel(xlabel)\n",
    "    plt.ylabel(ylabel)\n",
    "    plt.savefig(savefilenamewithextension)\n",
    "    \n",
    "def plotmanybargraph(x,y,y2,y3,title,xlabel,ylabel,savefilenamewithextension):\n",
    "    plt.bar(x,y,color = 'c')\n",
    "    plt.bar(x,y2,color = 'r')\n",
    "    plt.bar(x,y3, color = 'b')\n",
    "    plt.title(title)\n",
    "    plt.xlabel(xlabel)\n",
    "    plt.ylabel(ylabel)\n",
    "    plt.legend(labels=['Lewis Hamilton', 'Sebastian Vettel','Max Verstappen'])\n",
    "    plt.savefig(savefilenamewithextension)\n",
    "\n",
    "def plotmanylinegraph(x,y,y2,y3,title,xlabel,ylabel,savefilenamewithextension):\n",
    "    plt.plot(x,y,color = 'c')\n",
    "    plt.plot(x,y2,color = 'r')\n",
    "    plt.plot(x,y3, color = 'b')\n",
    "    plt.title(title)\n",
    "    plt.xlabel(xlabel)\n",
    "    plt.ylabel(ylabel)\n",
    "    plt.legend(labels=['Lewis Hamilton', 'Sebastian Vettel','Max Verstappen'])\n",
    "    plt.savefig(savefilenamewithextension)"
   ]
  },
  {
   "cell_type": "code",
   "execution_count": 43,
   "metadata": {},
   "outputs": [
    {
     "data": {
      "image/png": "[encoded data removed]",
      "text/plain": [
       "<Figure size 432x288 with 1 Axes>"
      ]
     },
     "metadata": {
      "needs_background": "light"
     },
     "output_type": "display_data"
    }
   ],
   "source": [
    "\n",
    "plotmanylinegraph(yearlabels,polarities.T[0],polarities.T[1],polarities.T[2],'Polarities for each driver over the years','Year','Polarity','Polarities over the years with all 3 drivers.png')"
   ]
  },
  {
   "cell_type": "code",
   "execution_count": null,
   "metadata": {},
   "outputs": [],
   "source": []
  },
  {
   "cell_type": "code",
   "execution_count": null,
   "metadata": {},
   "outputs": [],
   "source": []
  }
 ],
 "metadata": {
  "kernelspec": {
   "display_name": "Python 3",
   "language": "python",
   "name": "python3"
  },
  "language_info": {
   "codemirror_mode": {
    "name": "ipython",
    "version": 3
   },
   "file_extension": ".py",
   "mimetype": "text/x-python",
   "name": "python",
   "nbconvert_exporter": "python",
   "pygments_lexer": "ipython3",
   "version": "3.8.5"
  }
 },
 "nbformat": 4,
 "nbformat_minor": 4
}
