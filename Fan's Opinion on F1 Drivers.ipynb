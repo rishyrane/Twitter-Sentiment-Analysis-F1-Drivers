{
 "cells": [
  {
   "cell_type": "code",
   "execution_count": 14,
   "metadata": {},
   "outputs": [],
   "source": [
    "from textblob import TextBlob\n",
    "import tweepy\n",
    "import sys\n",
    "import numpy as np\n"
   ]
  },
  {
   "cell_type": "code",
   "execution_count": 15,
   "metadata": {},
   "outputs": [],
   "source": [
    "#Verstappen 2015-2016,2016-2018,2019-2020, 2021\n",
    "#Seb 2008-09, 2010-2013,2014-2018,2019-2020,2021\n",
    "#Ham 2007-09, 2010-2013, 2014-2016,2017-2020, 2021"
   ]
  },
  {
   "cell_type": "code",
   "execution_count": 16,
   "metadata": {},
   "outputs": [],
   "source": [
    "twkeys = open(r\"twitterkeys.txt\").read().splitlines() #waiting till twitter apikey is approved\n",
    "tkey = twkeys[0]\n",
    "tkeysecret = twkeys[1]\n",
    "taccesstoken = twkeys[2]\n",
    "taccesstokensecret = twkeys[3]\n"
   ]
  },
  {
   "cell_type": "code",
   "execution_count": 17,
   "metadata": {},
   "outputs": [],
   "source": [
    "authhandler = tweepy.OAuthHandler(consumer_key=tkey,consumer_secret=tkeysecret)\n",
    "authhandler.set_access_token(taccesstoken,taccesstokensecret)\n",
    "api = tweepy.API(authhandler)"
   ]
  },
  {
   "cell_type": "code",
   "execution_count": 25,
   "metadata": {},
   "outputs": [],
   "source": [
    "topic = np.array(['Lewis Hamilton','Sebastian Vettel','Max Verstappen'])\n",
    "numtweets = 100000\n",
    "tweets = []\n",
    "for i in range(len(topic)):\n",
    "    temp = tweepy.Cursor(api.search, q = topic[i], lang = 'en').items(numtweets) #textblob works best on english\n",
    "    tweets.append(temp)"
   ]
  },
  {
   "cell_type": "code",
   "execution_count": null,
   "metadata": {},
   "outputs": [],
   "source": []
  }
 ],
 "metadata": {
  "kernelspec": {
   "display_name": "Python 3",
   "language": "python",
   "name": "python3"
  },
  "language_info": {
   "codemirror_mode": {
    "name": "ipython",
    "version": 3
   },
   "file_extension": ".py",
   "mimetype": "text/x-python",
   "name": "python",
   "nbconvert_exporter": "python",
   "pygments_lexer": "ipython3",
   "version": "3.8.5"
  }
 },
 "nbformat": 4,
 "nbformat_minor": 4
}
